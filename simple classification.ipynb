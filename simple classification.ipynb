{
 "cells": [
  {
   "cell_type": "code",
   "execution_count": 1,
   "id": "14e5a0c9",
   "metadata": {},
   "outputs": [],
   "source": [
    "#Import the required packages\n",
    "\n",
    "from tensorflow.keras.models import Sequential\n",
    "from tensorflow.keras.layers import Conv2D\n",
    "from tensorflow.keras.layers import MaxPooling2D\n",
    "from tensorflow.keras.layers import Flatten\n",
    "from tensorflow.keras.layers import Dense\n",
    "\n",
    "# Initialising the CNN\n",
    "model = Sequential()\n",
    "\n",
    "# Convolution\n",
    "model.add(Conv2D(32, (3, 3), input_shape = (50, 50, 3), activation = 'relu'))\n",
    "\n",
    "# Pooling\n",
    "model.add(MaxPooling2D(pool_size = (2, 2)))\n",
    "\n",
    "# Second convolutional layer\n",
    "model.add(Conv2D(32, (3, 3), activation = 'relu'))\n",
    "model.add(MaxPooling2D(pool_size = (2, 2)))\n",
    "\n",
    "# Flattening\n",
    "model.add(Flatten())\n",
    "\n",
    "# Full connection\n",
    "model.add(Dense(units = 128, activation = 'relu'))\n",
    "model.add(Dense(units = 1, activation = 'sigmoid'))\n",
    "\n",
    "# Compiling the CNN\n",
    "model.compile(optimizer = 'adam', loss = 'binary_crossentropy', metrics = ['accuracy'])\n",
    "\n",
    "# ImageDataGenerator\n",
    "from tensorflow.keras.preprocessing.image import ImageDataGenerator\n",
    "\n",
    "train_datagen = ImageDataGenerator(rescale = 1./255,\n",
    "                                   shear_range = 0.2,\n",
    "                                   zoom_range = 0.2,\n",
    "                                   horizontal_flip = True)\n"
   ]
  },
  {
   "cell_type": "code",
   "execution_count": 2,
   "id": "a32b464a",
   "metadata": {},
   "outputs": [
    {
     "name": "stdout",
     "output_type": "stream",
     "text": [
      "Found 24015 images belonging to 2 classes.\n"
     ]
    }
   ],
   "source": [
    "# Load the training Set\n",
    "training_set = train_datagen.flow_from_directory('./cats and dogs/train',\n",
    "                                                 target_size = (50, 50),\n",
    "                                                 batch_size = 32,\n",
    "                                                 class_mode = 'binary')"
   ]
  },
  {
   "cell_type": "code",
   "execution_count": 3,
   "id": "cf6bc16e",
   "metadata": {},
   "outputs": [
    {
     "name": "stderr",
     "output_type": "stream",
     "text": [
      "C:\\Users\\sandr\\anaconda3\\lib\\site-packages\\tensorflow\\python\\keras\\engine\\training.py:1940: UserWarning: `Model.fit_generator` is deprecated and will be removed in a future version. Please use `Model.fit`, which supports generators.\n",
      "  warnings.warn('`Model.fit_generator` is deprecated and '\n"
     ]
    },
    {
     "name": "stdout",
     "output_type": "stream",
     "text": [
      "Epoch 1/25\n",
      "700/700 [==============================] - 98s 140ms/step - loss: 0.5899 - accuracy: 0.6766\n",
      "Epoch 2/25\n",
      "700/700 [==============================] - 83s 119ms/step - loss: 0.5155 - accuracy: 0.7461\n",
      "Epoch 3/25\n",
      "700/700 [==============================] - 473s 677ms/step - loss: 0.4796 - accuracy: 0.7705\n",
      "Epoch 4/25\n",
      "700/700 [==============================] - 83s 118ms/step - loss: 0.4500 - accuracy: 0.7891\n",
      "Epoch 5/25\n",
      "700/700 [==============================] - 82s 118ms/step - loss: 0.4311 - accuracy: 0.7971\n",
      "Epoch 6/25\n",
      "700/700 [==============================] - 83s 118ms/step - loss: 0.4176 - accuracy: 0.8066\n",
      "Epoch 7/25\n",
      "700/700 [==============================] - 82s 117ms/step - loss: 0.3988 - accuracy: 0.8161\n",
      "Epoch 8/25\n",
      "700/700 [==============================] - 82s 117ms/step - loss: 0.3834 - accuracy: 0.8233\n",
      "Epoch 9/25\n",
      "700/700 [==============================] - 82s 117ms/step - loss: 0.3699 - accuracy: 0.8342\n",
      "Epoch 10/25\n",
      "700/700 [==============================] - 82s 117ms/step - loss: 0.3667 - accuracy: 0.8337\n",
      "Epoch 11/25\n",
      "700/700 [==============================] - 82s 118ms/step - loss: 0.3512 - accuracy: 0.8451\n",
      "Epoch 12/25\n",
      "700/700 [==============================] - 84s 120ms/step - loss: 0.3427 - accuracy: 0.8475\n",
      "Epoch 13/25\n",
      "700/700 [==============================] - 84s 120ms/step - loss: 0.3333 - accuracy: 0.8538\n",
      "Epoch 14/25\n",
      "700/700 [==============================] - 84s 120ms/step - loss: 0.3201 - accuracy: 0.8608\n",
      "Epoch 15/25\n",
      "700/700 [==============================] - 85s 121ms/step - loss: 0.3088 - accuracy: 0.8653\n",
      "Epoch 16/25\n",
      "700/700 [==============================] - 85s 122ms/step - loss: 0.3024 - accuracy: 0.8700\n",
      "Epoch 17/25\n",
      "700/700 [==============================] - 87s 124ms/step - loss: 0.3002 - accuracy: 0.8723\n",
      "Epoch 18/25\n",
      "700/700 [==============================] - 88s 125ms/step - loss: 0.2862 - accuracy: 0.8786\n",
      "Epoch 19/25\n",
      "700/700 [==============================] - 89s 127ms/step - loss: 0.2770 - accuracy: 0.8805\n",
      "Epoch 20/25\n",
      "700/700 [==============================] - 90s 129ms/step - loss: 0.2800 - accuracy: 0.8826\n",
      "Epoch 21/25\n",
      "700/700 [==============================] - 92s 131ms/step - loss: 0.2668 - accuracy: 0.8862\n",
      "Epoch 22/25\n",
      "700/700 [==============================] - 93s 133ms/step - loss: 0.2551 - accuracy: 0.8904\n",
      "Epoch 23/25\n",
      "700/700 [==============================] - 94s 134ms/step - loss: 0.2513 - accuracy: 0.8956\n",
      "Epoch 24/25\n",
      "700/700 [==============================] - 97s 139ms/step - loss: 0.2496 - accuracy: 0.8936\n",
      "Epoch 25/25\n",
      "700/700 [==============================] - 99s 141ms/step - loss: 0.2332 - accuracy: 0.9041\n"
     ]
    },
    {
     "data": {
      "text/plain": [
       "<tensorflow.python.keras.callbacks.History at 0x1ea8dbbd280>"
      ]
     },
     "execution_count": 3,
     "metadata": {},
     "output_type": "execute_result"
    }
   ],
   "source": [
    "# Classifier Training \n",
    "model.fit_generator(training_set,\n",
    "                         steps_per_epoch = 700,\n",
    "                         epochs = 25,\n",
    "                         validation_steps = 350)"
   ]
  },
  {
   "cell_type": "code",
   "execution_count": 4,
   "id": "66f15025",
   "metadata": {},
   "outputs": [
    {
     "name": "stdout",
     "output_type": "stream",
     "text": [
      "Classifier trained Successfully!\n"
     ]
    }
   ],
   "source": [
    "# Convert the Model to json\n",
    "model_json = model.to_json()\n",
    "with open(\"./model.json\",\"w\") as json_file:\n",
    "    json_file.write(model_json)\n",
    "\n",
    "# Step 13: Save the weights in a seperate file\n",
    "model.save_weights(\"./model.h5\")\n",
    "\n",
    "print(\"Classifier trained Successfully!\")"
   ]
  }
 ],
 "metadata": {
  "kernelspec": {
   "display_name": "Python 3",
   "language": "python",
   "name": "python3"
  },
  "language_info": {
   "codemirror_mode": {
    "name": "ipython",
    "version": 3
   },
   "file_extension": ".py",
   "mimetype": "text/x-python",
   "name": "python",
   "nbconvert_exporter": "python",
   "pygments_lexer": "ipython3",
   "version": "3.8.8"
  }
 },
 "nbformat": 4,
 "nbformat_minor": 5
}
