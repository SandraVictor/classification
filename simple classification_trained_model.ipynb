{
 "cells": [
  {
   "cell_type": "code",
   "execution_count": 1,
   "id": "501ebdf7",
   "metadata": {},
   "outputs": [],
   "source": [
    "# Import the packages\n",
    "from tensorflow.keras.models import model_from_json\n",
    "import cv2\n",
    "import numpy as np"
   ]
  },
  {
   "cell_type": "code",
   "execution_count": 2,
   "id": "68dc33b7",
   "metadata": {},
   "outputs": [],
   "source": [
    "# Load the Model from Json File\n",
    "json_file = open('./model.json', 'r')\n",
    "loaded_model_json = json_file.read()\n",
    "json_file.close()\n",
    "loaded_model = model_from_json(loaded_model_json)"
   ]
  },
  {
   "cell_type": "code",
   "execution_count": 3,
   "id": "60c42b5f",
   "metadata": {},
   "outputs": [
    {
     "name": "stdout",
     "output_type": "stream",
     "text": [
      "Loaded model from disk\n"
     ]
    }
   ],
   "source": [
    "# Load the weights\n",
    "loaded_model.load_weights(\"./model.h5\")\n",
    "print(\"Loaded model from disk\")"
   ]
  },
  {
   "cell_type": "code",
   "execution_count": 4,
   "id": "d103118c",
   "metadata": {},
   "outputs": [],
   "source": [
    "# Compile the model\n",
    "loaded_model.compile(optimizer = 'adam', loss = 'binary_crossentropy', metrics = ['accuracy'])"
   ]
  },
  {
   "cell_type": "code",
   "execution_count": 30,
   "id": "0e39c781",
   "metadata": {
    "scrolled": true
   },
   "outputs": [],
   "source": [
    "# load the image you want to test\n",
    "image = cv2.imread(\"./cats and dogs/test/test_images/2.jpg\")\n",
    "image = cv2.resize(image, (50,50))\n",
    "image = image.reshape(1, 50, 50, 3)\n",
    "cv2.imshow(\"Input Image\", image)\n",
    "cv2.waitKey(0)\n",
    "cv2.destroyAllWindows()"
   ]
  },
  {
   "cell_type": "code",
   "execution_count": 32,
   "id": "98437bef",
   "metadata": {},
   "outputs": [],
   "source": [
    "Predict to which class your input image has been classified\n",
    "result = loaded_model.predict_classes(image)\n",
    "if(result[0][0] == 1):\n",
    "    print(\"I guess this must be a Dog!\")\n",
    "else:\n",
    "    print(\"I guess this must be a Cat!\")"
   ]
  }
 ],
 "metadata": {
  "kernelspec": {
   "display_name": "Python 3",
   "language": "python",
   "name": "python3"
  },
  "language_info": {
   "codemirror_mode": {
    "name": "ipython",
    "version": 3
   },
   "file_extension": ".py",
   "mimetype": "text/x-python",
   "name": "python",
   "nbconvert_exporter": "python",
   "pygments_lexer": "ipython3",
   "version": "3.8.8"
  }
 },
 "nbformat": 4,
 "nbformat_minor": 5
}
